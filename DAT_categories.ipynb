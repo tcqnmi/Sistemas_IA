{
 "cells": [
  {
   "cell_type": "code",
   "execution_count": 66,
   "metadata": {},
   "outputs": [
    {
     "data": {
      "text/html": [
       "<div>\n",
       "<style scoped>\n",
       "    .dataframe tbody tr th:only-of-type {\n",
       "        vertical-align: middle;\n",
       "    }\n",
       "\n",
       "    .dataframe tbody tr th {\n",
       "        vertical-align: top;\n",
       "    }\n",
       "\n",
       "    .dataframe thead th {\n",
       "        text-align: right;\n",
       "    }\n",
       "</style>\n",
       "<table border=\"1\" class=\"dataframe\">\n",
       "  <thead>\n",
       "    <tr style=\"text-align: right;\">\n",
       "      <th></th>\n",
       "      <th>curso</th>\n",
       "      <th>sexo</th>\n",
       "      <th>edad</th>\n",
       "      <th>nivel</th>\n",
       "    </tr>\n",
       "  </thead>\n",
       "  <tbody>\n",
       "    <tr>\n",
       "      <th>0</th>\n",
       "      <td>dam1</td>\n",
       "      <td>f</td>\n",
       "      <td>18</td>\n",
       "      <td>b1</td>\n",
       "    </tr>\n",
       "    <tr>\n",
       "      <th>1</th>\n",
       "      <td>dam1</td>\n",
       "      <td>f</td>\n",
       "      <td>18</td>\n",
       "      <td>b2</td>\n",
       "    </tr>\n",
       "    <tr>\n",
       "      <th>2</th>\n",
       "      <td>asir1</td>\n",
       "      <td>m</td>\n",
       "      <td>21</td>\n",
       "      <td>c1</td>\n",
       "    </tr>\n",
       "    <tr>\n",
       "      <th>3</th>\n",
       "      <td>asir1</td>\n",
       "      <td>f</td>\n",
       "      <td>19</td>\n",
       "      <td>b2</td>\n",
       "    </tr>\n",
       "    <tr>\n",
       "      <th>4</th>\n",
       "      <td>asir1</td>\n",
       "      <td>f</td>\n",
       "      <td>22</td>\n",
       "      <td>b2</td>\n",
       "    </tr>\n",
       "    <tr>\n",
       "      <th>5</th>\n",
       "      <td>af1</td>\n",
       "      <td>m</td>\n",
       "      <td>32</td>\n",
       "      <td>c2</td>\n",
       "    </tr>\n",
       "    <tr>\n",
       "      <th>6</th>\n",
       "      <td>dam1</td>\n",
       "      <td>f</td>\n",
       "      <td>30</td>\n",
       "      <td>c1</td>\n",
       "    </tr>\n",
       "  </tbody>\n",
       "</table>\n",
       "</div>"
      ],
      "text/plain": [
       "   curso sexo  edad nivel\n",
       "0   dam1    f    18    b1\n",
       "1   dam1    f    18    b2\n",
       "2  asir1    m    21    c1\n",
       "3  asir1    f    19    b2\n",
       "4  asir1    f    22    b2\n",
       "5    af1    m    32    c2\n",
       "6   dam1    f    30    c1"
      ]
     },
     "execution_count": 66,
     "metadata": {},
     "output_type": "execute_result"
    }
   ],
   "source": [
    "#Creamos un \"mini-dataset\" a mano para trabajar con él\n",
    "datos = {\n",
    "    'curso': ['dam1', 'dam1', 'asir1', 'asir1', 'asir1', 'af1','dam1'],\n",
    "    'sexo': ['f','f','m','f','f','m','f'],\n",
    "    'edad': [18,18,21,19,22,32,30],\n",
    "    'nivel': ['b1','b2','c1','b2','b2','c2','c1']\n",
    "}\n",
    "\n",
    "import pandas as pd \n",
    "import numpy as np \n",
    "\n",
    "df = pd.DataFrame(datos)\n",
    "copia = df\n",
    "df"
   ]
  },
  {
   "cell_type": "markdown",
   "metadata": {},
   "source": [
    "\n",
    "## Pandas\n",
    "\n",
    "### Columnas nominales (curso, sexo)\n"
   ]
  },
  {
   "cell_type": "markdown",
   "metadata": {},
   "source": []
  },
  {
   "cell_type": "code",
   "execution_count": 33,
   "metadata": {},
   "outputs": [
    {
     "name": "stdout",
     "output_type": "stream",
     "text": [
      "   edad nivel  curso_af1  curso_asir1  curso_dam1  sexo_f  sexo_m\n",
      "0    18    b1          0            0           1       1       0\n",
      "1    18    b2          0            0           1       1       0\n",
      "2    21    c1          0            1           0       0       1\n",
      "3    19    b2          0            1           0       1       0\n",
      "4    22    b2          0            1           0       1       0\n",
      "5    32    c2          1            0           0       0       1\n",
      "6    30    c1          0            0           1       1       0\n"
     ]
    }
   ],
   "source": [
    "\n",
    "df = pd.get_dummies(df, columns=['curso','sexo'])\n",
    "print(df)\n",
    "\n"
   ]
  },
  {
   "cell_type": "markdown",
   "metadata": {},
   "source": [
    "### Columnas ordinales (nivel)"
   ]
  },
  {
   "cell_type": "code",
   "execution_count": 34,
   "metadata": {},
   "outputs": [
    {
     "name": "stdout",
     "output_type": "stream",
     "text": [
      "['b1', 'b2', 'c1', 'b2', 'b2', 'c2', 'c1']\n",
      "Categories (4, object): ['b1' < 'b2' < 'c1' < 'c2']\n"
     ]
    },
    {
     "data": {
      "text/html": [
       "<div>\n",
       "<style scoped>\n",
       "    .dataframe tbody tr th:only-of-type {\n",
       "        vertical-align: middle;\n",
       "    }\n",
       "\n",
       "    .dataframe tbody tr th {\n",
       "        vertical-align: top;\n",
       "    }\n",
       "\n",
       "    .dataframe thead th {\n",
       "        text-align: right;\n",
       "    }\n",
       "</style>\n",
       "<table border=\"1\" class=\"dataframe\">\n",
       "  <thead>\n",
       "    <tr style=\"text-align: right;\">\n",
       "      <th></th>\n",
       "      <th>edad</th>\n",
       "      <th>nivel</th>\n",
       "      <th>curso_af1</th>\n",
       "      <th>curso_asir1</th>\n",
       "      <th>curso_dam1</th>\n",
       "      <th>sexo_f</th>\n",
       "      <th>sexo_m</th>\n",
       "    </tr>\n",
       "  </thead>\n",
       "  <tbody>\n",
       "    <tr>\n",
       "      <th>0</th>\n",
       "      <td>18</td>\n",
       "      <td>0</td>\n",
       "      <td>0</td>\n",
       "      <td>0</td>\n",
       "      <td>1</td>\n",
       "      <td>1</td>\n",
       "      <td>0</td>\n",
       "    </tr>\n",
       "    <tr>\n",
       "      <th>1</th>\n",
       "      <td>18</td>\n",
       "      <td>1</td>\n",
       "      <td>0</td>\n",
       "      <td>0</td>\n",
       "      <td>1</td>\n",
       "      <td>1</td>\n",
       "      <td>0</td>\n",
       "    </tr>\n",
       "    <tr>\n",
       "      <th>2</th>\n",
       "      <td>21</td>\n",
       "      <td>2</td>\n",
       "      <td>0</td>\n",
       "      <td>1</td>\n",
       "      <td>0</td>\n",
       "      <td>0</td>\n",
       "      <td>1</td>\n",
       "    </tr>\n",
       "    <tr>\n",
       "      <th>3</th>\n",
       "      <td>19</td>\n",
       "      <td>1</td>\n",
       "      <td>0</td>\n",
       "      <td>1</td>\n",
       "      <td>0</td>\n",
       "      <td>1</td>\n",
       "      <td>0</td>\n",
       "    </tr>\n",
       "    <tr>\n",
       "      <th>4</th>\n",
       "      <td>22</td>\n",
       "      <td>1</td>\n",
       "      <td>0</td>\n",
       "      <td>1</td>\n",
       "      <td>0</td>\n",
       "      <td>1</td>\n",
       "      <td>0</td>\n",
       "    </tr>\n",
       "    <tr>\n",
       "      <th>5</th>\n",
       "      <td>32</td>\n",
       "      <td>3</td>\n",
       "      <td>1</td>\n",
       "      <td>0</td>\n",
       "      <td>0</td>\n",
       "      <td>0</td>\n",
       "      <td>1</td>\n",
       "    </tr>\n",
       "    <tr>\n",
       "      <th>6</th>\n",
       "      <td>30</td>\n",
       "      <td>2</td>\n",
       "      <td>0</td>\n",
       "      <td>0</td>\n",
       "      <td>1</td>\n",
       "      <td>1</td>\n",
       "      <td>0</td>\n",
       "    </tr>\n",
       "  </tbody>\n",
       "</table>\n",
       "</div>"
      ],
      "text/plain": [
       "   edad  nivel  curso_af1  curso_asir1  curso_dam1  sexo_f  sexo_m\n",
       "0    18      0          0            0           1       1       0\n",
       "1    18      1          0            0           1       1       0\n",
       "2    21      2          0            1           0       0       1\n",
       "3    19      1          0            1           0       1       0\n",
       "4    22      1          0            1           0       1       0\n",
       "5    32      3          1            0           0       0       1\n",
       "6    30      2          0            0           1       1       0"
      ]
     },
     "execution_count": 34,
     "metadata": {},
     "output_type": "execute_result"
    }
   ],
   "source": [
    "cod = pd.Categorical(df['nivel'], categories=['b1','b2','c1','c2'], ordered=True)\n",
    "print(cod)\n",
    "\n",
    "df['nivel']=cod.codes\n",
    "df"
   ]
  },
  {
   "cell_type": "markdown",
   "metadata": {},
   "source": [
    "## sklearn\n",
    "\n",
    "### Columnas nominales (Clase OnehotEncoder)"
   ]
  },
  {
   "cell_type": "code",
   "execution_count": 67,
   "metadata": {},
   "outputs": [
    {
     "name": "stdout",
     "output_type": "stream",
     "text": [
      "<class 'pandas.core.frame.DataFrame'>\n",
      "   curso sexo  edad nivel  curso_asir1  curso_dam1  sexo_m\n",
      "0   dam1    f    18    b1          0.0         1.0     0.0\n",
      "1   dam1    f    18    b2          0.0         1.0     0.0\n",
      "2  asir1    m    21    c1          1.0         0.0     1.0\n",
      "3  asir1    f    19    b2          1.0         0.0     0.0\n",
      "4  asir1    f    22    b2          1.0         0.0     0.0\n",
      "5    af1    m    32    c2          0.0         0.0     1.0\n",
      "6   dam1    f    30    c1          0.0         1.0     0.0\n",
      "   edad nivel  curso_asir1  curso_dam1  sexo_m\n",
      "0    18    b1          0.0         1.0     0.0\n",
      "1    18    b2          0.0         1.0     0.0\n",
      "2    21    c1          1.0         0.0     1.0\n",
      "3    19    b2          1.0         0.0     0.0\n",
      "4    22    b2          1.0         0.0     0.0\n",
      "5    32    c2          0.0         0.0     1.0\n",
      "6    30    c1          0.0         1.0     0.0\n"
     ]
    },
    {
     "name": "stderr",
     "output_type": "stream",
     "text": [
      "c:\\Users\\tamar\\anaconda3\\lib\\site-packages\\sklearn\\utils\\deprecation.py:87: FutureWarning: Function get_feature_names is deprecated; get_feature_names is deprecated in 1.0 and will be removed in 1.2. Please use get_feature_names_out instead.\n",
      "  warnings.warn(msg, category=FutureWarning)\n"
     ]
    }
   ],
   "source": [
    "from sklearn.preprocessing import OneHotEncoder\n",
    "import pandas as pd\n",
    "\n",
    "\n",
    "df = copia\n",
    "# Crear una instancia de OneHotEncoder\n",
    "oh = OneHotEncoder(drop='first', sparse=False)\n",
    "\n",
    "# Ajustar y transformar los datos\n",
    "nuevos = oh.fit_transform(df[['curso', 'sexo']])\n",
    "\n",
    "# Obtener los nombres de las columnas después de la transformación\n",
    "column_names = oh.get_feature_names(['curso', 'sexo'])\n",
    "\n",
    "# Crear un DataFrame con los resultados y los nombres de las columnas\n",
    "df_nuevos = pd.DataFrame(nuevos, columns=column_names)\n",
    "\n",
    "# Concatenar el DataFrame original sin las columnas y el DataFrame de las variables dummy\n",
    "df = pd.concat([df, df_nuevos], axis=1)\n",
    "print(df)\n",
    "\n",
    "\n",
    "# Eliminar las columnas originales\n",
    "df.drop(labels=['curso', 'sexo'], axis=1, inplace=True)\n",
    "print(df)\n",
    "\n"
   ]
  },
  {
   "cell_type": "code",
   "execution_count": 68,
   "metadata": {},
   "outputs": [
    {
     "name": "stdout",
     "output_type": "stream",
     "text": [
      "   edad  nivel  curso_asir1  curso_dam1  sexo_m\n",
      "0    18    0.0          0.0         1.0     0.0\n",
      "1    18    1.0          0.0         1.0     0.0\n",
      "2    21    2.0          1.0         0.0     1.0\n",
      "3    19    1.0          1.0         0.0     0.0\n",
      "4    22    1.0          1.0         0.0     0.0\n",
      "5    32    3.0          0.0         0.0     1.0\n",
      "6    30    2.0          0.0         1.0     0.0\n"
     ]
    }
   ],
   "source": [
    "oe = OrdinalEncoder(categories=[['b1','b2','c1','c2']])\n",
    "df['nivel'] = oe.fit_transform(df[['nivel']])\n",
    "print(df)"
   ]
  }
 ],
 "metadata": {
  "kernelspec": {
   "display_name": "base",
   "language": "python",
   "name": "python3"
  },
  "language_info": {
   "codemirror_mode": {
    "name": "ipython",
    "version": 3
   },
   "file_extension": ".py",
   "mimetype": "text/x-python",
   "name": "python",
   "nbconvert_exporter": "python",
   "pygments_lexer": "ipython3",
   "version": "3.9.13"
  }
 },
 "nbformat": 4,
 "nbformat_minor": 2
}
