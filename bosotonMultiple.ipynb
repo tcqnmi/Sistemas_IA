{
 "cells": [
  {
   "cell_type": "code",
   "execution_count": null,
   "metadata": {},
   "outputs": [],
   "source": [
    "import numpy as np\n",
    "import pandas as pd\n",
    "\n",
    "\n",
    "boston = pd.read_csv(\"bostonHousing.csv\")\n",
    "\n",
    "\n",
    "# Exploración de los datos\n",
    "boston.info()\n",
    "boston.describe().transpose()\n",
    "boston.head()\n",
    "\n",
    "\n",
    "# Valores nulos por columna\n",
    "df.isnull().sum()"
   ]
  }
 ],
 "metadata": {
  "language_info": {
   "name": "python"
  }
 },
 "nbformat": 4,
 "nbformat_minor": 2
}
