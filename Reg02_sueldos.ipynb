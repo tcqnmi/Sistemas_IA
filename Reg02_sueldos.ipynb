{
 "cells": [
  {
   "cell_type": "markdown",
   "metadata": {},
   "source": [
    "Regresión lineal"
   ]
  },
  {
   "cell_type": "code",
   "execution_count": 17,
   "metadata": {},
   "outputs": [],
   "source": [
    "#importamos librerías\n",
    "\n",
    "import numpy as np \n",
    "import pandas as pd\n",
    "\n",
    "df = pd.read_csv(\"datasets/sueldos/sueldos.csv\")"
   ]
  },
  {
   "cell_type": "markdown",
   "metadata": {},
   "source": [
    "Conocemos los datos que forman parte del conjunto"
   ]
  },
  {
   "cell_type": "code",
   "execution_count": 18,
   "metadata": {},
   "outputs": [
    {
     "name": "stdout",
     "output_type": "stream",
     "text": [
      "Tipo:  <class 'pandas.core.frame.DataFrame'>\n",
      "Dimensiones:  (41, 4)\n"
     ]
    }
   ],
   "source": [
    "print(\"Tipo: \",type(df))\n",
    "print(\"Dimensiones: \",df.shape)"
   ]
  },
  {
   "cell_type": "code",
   "execution_count": 21,
   "metadata": {},
   "outputs": [
    {
     "name": "stdout",
     "output_type": "stream",
     "text": [
      "INFO:  \n",
      "<class 'pandas.core.frame.DataFrame'>\n",
      "RangeIndex: 41 entries, 0 to 40\n",
      "Data columns (total 4 columns):\n",
      " #   Column       Non-Null Count  Dtype  \n",
      "---  ------       --------------  -----  \n",
      " 0   nombre       41 non-null     object \n",
      " 1   apellido     41 non-null     object \n",
      " 2   experiencia  41 non-null     float64\n",
      " 3   sueldo       41 non-null     int64  \n",
      "dtypes: float64(1), int64(1), object(2)\n",
      "memory usage: 1.4+ KB\n",
      "\n",
      "\n",
      "****************************************\n",
      "\n",
      "\n",
      "Describe:  \n",
      "\n",
      "\n",
      "****************************************\n",
      "\n",
      "\n",
      "Describe (transpose):  \n"
     ]
    },
    {
     "data": {
      "text/html": [
       "<div>\n",
       "<style scoped>\n",
       "    .dataframe tbody tr th:only-of-type {\n",
       "        vertical-align: middle;\n",
       "    }\n",
       "\n",
       "    .dataframe tbody tr th {\n",
       "        vertical-align: top;\n",
       "    }\n",
       "\n",
       "    .dataframe thead th {\n",
       "        text-align: right;\n",
       "    }\n",
       "</style>\n",
       "<table border=\"1\" class=\"dataframe\">\n",
       "  <thead>\n",
       "    <tr style=\"text-align: right;\">\n",
       "      <th></th>\n",
       "      <th>count</th>\n",
       "      <th>mean</th>\n",
       "      <th>std</th>\n",
       "      <th>min</th>\n",
       "      <th>25%</th>\n",
       "      <th>50%</th>\n",
       "      <th>75%</th>\n",
       "      <th>max</th>\n",
       "    </tr>\n",
       "  </thead>\n",
       "  <tbody>\n",
       "    <tr>\n",
       "      <th>experiencia</th>\n",
       "      <td>41.0</td>\n",
       "      <td>5.941463</td>\n",
       "      <td>3.614206</td>\n",
       "      <td>1.0</td>\n",
       "      <td>2.9</td>\n",
       "      <td>4.9</td>\n",
       "      <td>9.0</td>\n",
       "      <td>13.5</td>\n",
       "    </tr>\n",
       "    <tr>\n",
       "      <th>sueldo</th>\n",
       "      <td>41.0</td>\n",
       "      <td>80695.780488</td>\n",
       "      <td>34312.186818</td>\n",
       "      <td>37731.0</td>\n",
       "      <td>54445.0</td>\n",
       "      <td>66029.0</td>\n",
       "      <td>112635.0</td>\n",
       "      <td>148911.0</td>\n",
       "    </tr>\n",
       "  </tbody>\n",
       "</table>\n",
       "</div>"
      ],
      "text/plain": [
       "             count          mean           std      min      25%      50%  \\\n",
       "experiencia   41.0      5.941463      3.614206      1.0      2.9      4.9   \n",
       "sueldo        41.0  80695.780488  34312.186818  37731.0  54445.0  66029.0   \n",
       "\n",
       "                  75%       max  \n",
       "experiencia       9.0      13.5  \n",
       "sueldo       112635.0  148911.0  "
      ]
     },
     "execution_count": 21,
     "metadata": {},
     "output_type": "execute_result"
    }
   ],
   "source": [
    "print(\"INFO:  \")\n",
    "df.info()\n",
    "\n",
    "print(\"\\n\")\n",
    "print(\"**\"*20)\n",
    "print(\"\\n\")\n",
    "\n",
    "print(\"Describe:  \")\n",
    "df.describe()\n",
    "\n",
    "print(\"\\n\")\n",
    "print(\"**\"*20)\n",
    "print(\"\\n\")\n",
    "\n",
    "print(\"Describe (transpose):  \")\n",
    "df.describe().transpose()"
   ]
  },
  {
   "cell_type": "markdown",
   "metadata": {},
   "source": [
    "Representacióin gráfica"
   ]
  },
  {
   "cell_type": "code",
   "execution_count": 36,
   "metadata": {},
   "outputs": [
    {
     "data": {
      "text/plain": [
       "(array([5., 9., 6., 4., 3., 2., 4., 3., 2., 3.]),\n",
       " array([ 1.  ,  2.25,  3.5 ,  4.75,  6.  ,  7.25,  8.5 ,  9.75, 11.  ,\n",
       "        12.25, 13.5 ]),\n",
       " <BarContainer object of 10 artists>)"
      ]
     },
     "execution_count": 36,
     "metadata": {},
     "output_type": "execute_result"
    },
    {
     "data": {
      "image/png": "[encoded data removed]",
      "text/plain": [
       "<Figure size 640x480 with 1 Axes>"
      ]
     },
     "metadata": {},
     "output_type": "display_data"
    }
   ],
   "source": [
    "import matplotlib.pyplot as plt\n",
    "\n",
    "#Histograma de la experiencia\n",
    "\n",
    "    #bins es con que precisión de agrupación nos dan los datos\n",
    "\n",
    "plt.hist(df['experiencia'],bins=10, color='green')\n"
   ]
  },
  {
   "cell_type": "code",
   "execution_count": 37,
   "metadata": {},
   "outputs": [
    {
     "data": {
      "text/plain": [
       "(array([10., 12.,  2.,  3.,  6.,  5.,  3.]),\n",
       " array([ 37731.        ,  53613.85714286,  69496.71428571,  85379.57142857,\n",
       "        101262.42857143, 117145.28571429, 133028.14285714, 148911.        ]),\n",
       " <BarContainer object of 7 artists>)"
      ]
     },
     "execution_count": 37,
     "metadata": {},
     "output_type": "execute_result"
    },
    {
     "data": {
      "image/png": "[encoded data removed]",
      "text/plain": [
       "<Figure size 640x480 with 1 Axes>"
      ]
     },
     "metadata": {},
     "output_type": "display_data"
    }
   ],
   "source": [
    "\n",
    "\n",
    "plt.hist(df['sueldo'],bins='auto', color='red')"
   ]
  },
  {
   "cell_type": "code",
   "execution_count": 43,
   "metadata": {},
   "outputs": [
    {
     "data": {
      "image/png": "[encoded data removed]",
      "text/plain": [
       "<Figure size 640x480 with 1 Axes>"
      ]
     },
     "metadata": {},
     "output_type": "display_data"
    }
   ],
   "source": [
    "plt.scatter(df['sueldo'], y=df['experiencia'],color='blue', marker='*')\n",
    "plt.xlabel('sueldo')\n",
    "plt.ylabel('años experiencia')\n",
    "plt.title('años/experiencia')\n",
    "plt.show()"
   ]
  },
  {
   "cell_type": "code",
   "execution_count": 49,
   "metadata": {},
   "outputs": [
    {
     "data": {
      "text/html": [
       "<div>\n",
       "<style scoped>\n",
       "    .dataframe tbody tr th:only-of-type {\n",
       "        vertical-align: middle;\n",
       "    }\n",
       "\n",
       "    .dataframe tbody tr th {\n",
       "        vertical-align: top;\n",
       "    }\n",
       "\n",
       "    .dataframe thead th {\n",
       "        text-align: right;\n",
       "    }\n",
       "</style>\n",
       "<table border=\"1\" class=\"dataframe\">\n",
       "  <thead>\n",
       "    <tr style=\"text-align: right;\">\n",
       "      <th></th>\n",
       "      <th>nombre</th>\n",
       "      <th>apellido</th>\n",
       "      <th>experiencia</th>\n",
       "      <th>sueldo</th>\n",
       "    </tr>\n",
       "  </thead>\n",
       "  <tbody>\n",
       "    <tr>\n",
       "      <th>20</th>\n",
       "      <td>Patricia</td>\n",
       "      <td>Ruiz</td>\n",
       "      <td>4.9</td>\n",
       "      <td>67938</td>\n",
       "    </tr>\n",
       "    <tr>\n",
       "      <th>14</th>\n",
       "      <td>Jorge</td>\n",
       "      <td>Rodríguez</td>\n",
       "      <td>3.7</td>\n",
       "      <td>57189</td>\n",
       "    </tr>\n",
       "    <tr>\n",
       "      <th>28</th>\n",
       "      <td>Alicia</td>\n",
       "      <td>Vázquez</td>\n",
       "      <td>8.2</td>\n",
       "      <td>113812</td>\n",
       "    </tr>\n",
       "    <tr>\n",
       "      <th>22</th>\n",
       "      <td>Sandra</td>\n",
       "      <td>Moreno</td>\n",
       "      <td>5.3</td>\n",
       "      <td>83088</td>\n",
       "    </tr>\n",
       "    <tr>\n",
       "      <th>31</th>\n",
       "      <td>Daniel</td>\n",
       "      <td>Serrano</td>\n",
       "      <td>9.5</td>\n",
       "      <td>116969</td>\n",
       "    </tr>\n",
       "  </tbody>\n",
       "</table>\n",
       "</div>"
      ],
      "text/plain": [
       "      nombre   apellido  experiencia  sueldo\n",
       "20  Patricia       Ruiz          4.9   67938\n",
       "14     Jorge  Rodríguez          3.7   57189\n",
       "28    Alicia    Vázquez          8.2  113812\n",
       "22    Sandra     Moreno          5.3   83088\n",
       "31    Daniel    Serrano          9.5  116969"
      ]
     },
     "execution_count": 49,
     "metadata": {},
     "output_type": "execute_result"
    }
   ],
   "source": [
    "#Limit 5 aleatorio\n",
    "\n",
    "df.sample(5)"
   ]
  },
  {
   "cell_type": "markdown",
   "metadata": {},
   "source": [
    "Creamos los subconjuntos de datos con los que vamos a entrenar el modelo\n",
    "Conjunto de entrada:"
   ]
  },
  {
   "cell_type": "code",
   "execution_count": 55,
   "metadata": {},
   "outputs": [
    {
     "name": "stdout",
     "output_type": "stream",
     "text": [
      "Cabecera: \n",
      "    experiencia\n",
      "0          1.0\n",
      "1          1.3\n",
      "2          1.5\n",
      "3          2.0\n",
      "4          2.2\n",
      "\n",
      "\n",
      "Tipo de la variable x: \n",
      " <class 'pandas.core.frame.DataFrame'>\n",
      "\n",
      "\n",
      "Dimensiones de la variable x: \n",
      " (41, 1)\n",
      "\n",
      "\n",
      "Descripción de la variable x: \n",
      "        experiencia\n",
      "count    41.000000\n",
      "mean      5.941463\n",
      "std       3.614206\n",
      "min       1.000000\n",
      "25%       2.900000\n",
      "50%       4.900000\n",
      "75%       9.000000\n",
      "max      13.500000\n",
      "\n",
      "\n"
     ]
    }
   ],
   "source": [
    "#Cogemos 41 filas (todas) de una única columna, la de index 2\n",
    "\n",
    "x = df.iloc[:,[2]]\n",
    "\n",
    "print(\"Cabecera: \\n\",x.head())\n",
    "print(\"\\n\")\n",
    "\n",
    "print(\"Tipo de la variable x: \\n\",type(x))\n",
    "print(\"\\n\")\n",
    "\n",
    "print(\"Dimensiones de la variable x: \\n\",x.shape)\n",
    "print(\"\\n\")\n",
    "     \n",
    "print(\"Descripción de la variable x: \\n\",x.describe())\n",
    "print(\"\\n\")\n"
   ]
  },
  {
   "cell_type": "markdown",
   "metadata": {},
   "source": [
    "Conjunto de salidas (resultados) (Y)"
   ]
  },
  {
   "cell_type": "code",
   "execution_count": 62,
   "metadata": {},
   "outputs": [
    {
     "name": "stdout",
     "output_type": "stream",
     "text": [
      "Tipo Y1:  <class 'pandas.core.series.Series'>\n",
      "Tipo Y2:  <class 'pandas.core.series.Series'>\n"
     ]
    }
   ],
   "source": [
    "#En lugar de sacar otro dataframe como en el caso anterior df.iloc[:,[2]] ahora sacamos una serie\n",
    "\n",
    "y1= df.iloc[:,3]\n",
    "y= df['sueldo']\n",
    "\n",
    "print(\"Tipo Y1: \", type(y1))\n",
    "print(\"Tipo Y2: \", type(y))"
   ]
  },
  {
   "cell_type": "markdown",
   "metadata": {},
   "source": [
    "Conjunto de entrenamiento y conjunto de pruebas"
   ]
  },
  {
   "cell_type": "code",
   "execution_count": 91,
   "metadata": {},
   "outputs": [
    {
     "name": "stdout",
     "output_type": "stream",
     "text": [
      "(28, 1)\n",
      "(13, 1)\n"
     ]
    }
   ],
   "source": [
    "from sklearn.model_selection import train_test_split\n",
    "\n",
    "#random_state es la semilla, siempre te coge la misma \"secuencia aleatoria o secuencia de separación\", si la quito cada vez me sale una serie distinta si lo dejo siempre me sale la misma\n",
    "\n",
    "x_ent, x_pruebas, y_ent, y_pruebas = train_test_split(x,y, test_size=0.3, random_state=1)\n",
    "\n",
    "print(x_ent.shape)\n",
    "print(x_pruebas.shape)\n"
   ]
  },
  {
   "cell_type": "code",
   "execution_count": 93,
   "metadata": {},
   "outputs": [
    {
     "data": {
      "text/plain": [
       "LinearRegression()"
      ]
     },
     "execution_count": 93,
     "metadata": {},
     "output_type": "execute_result"
    }
   ],
   "source": [
    "#entrenamiento\n",
    "\n",
    "from sklearn.linear_model import LinearRegression\n",
    "\n",
    "modelo = LinearRegression()\n",
    "modelo.fit(x_ent,y_ent)"
   ]
  },
  {
   "cell_type": "code",
   "execution_count": 111,
   "metadata": {},
   "outputs": [
    {
     "name": "stdout",
     "output_type": "stream",
     "text": [
      "R2:  0.9703606196203303\n",
      "En mi prueba he visto que 4 han cobrado esto: \n",
      " 3      43525\n",
      "2      37731\n",
      "23     81363\n",
      "38    139465\n",
      "Name: sueldo, dtype: int64\n",
      "Con mi predicción he obtenido esto para los 4 primeros: \n",
      " [ 44193.96439919  39556.19480692  80368.56721888 139732.01799991]\n"
     ]
    }
   ],
   "source": [
    "#Bondad del ajuste\n",
    "#Sacar el coeficiente de precisión de la predicción va de 0 a 1 cuanto más cerca del 1 mejor\n",
    "\n",
    "#Primero hacemos la predicción para el conjunto de pruebas\n",
    "\n",
    "y_pred = modelo.predict(x_pruebas)\n",
    "\n",
    "\n",
    "from sklearn.metrics import r2_score\n",
    "\n",
    "print(\"R2: \",r2_score(y_pruebas, y_pred))\n",
    "\n",
    "\n",
    "'''x_pred = modelo.predict(y_pruebas)\n",
    "\n",
    "print(\"R2: \",r2_score(x_pruebas, x_pred))\n",
    "\n",
    "ESTO NO FUNCIONA PORQUE PASOS ARRIBA SOLO CREAMOS SETS DE PRUEBAS PARA Y, PARA HACER LA PRUEBA HA DE SER CON SERIES)'''\n",
    "\n",
    "print(\"En mi prueba he visto que 4 han cobrado esto: \\n\",y_pruebas.head(4))\n",
    "\n",
    "print(\"Con mi predicción he obtenido esto para los 4 primeros: \\n\",y_pred[:4])\n"
   ]
  },
  {
   "cell_type": "code",
   "execution_count": 118,
   "metadata": {},
   "outputs": [
    {
     "name": "stdout",
     "output_type": "stream",
     "text": [
      "[9275.53918454]\n"
     ]
    }
   ],
   "source": [
    "pendiente = modelo.coef_\n",
    "print(pendiente)"
   ]
  },
  {
   "cell_type": "code",
   "execution_count": 130,
   "metadata": {},
   "outputs": [
    {
     "data": {
      "text/plain": [
       "[<matplotlib.lines.Line2D at 0x25dd2c330a0>]"
      ]
     },
     "execution_count": 130,
     "metadata": {},
     "output_type": "execute_result"
    },
    {
     "data": {
      "image/png": "[encoded data removed]",
      "text/plain": [
       "<Figure size 640x480 with 1 Axes>"
      ]
     },
     "metadata": {},
     "output_type": "display_data"
    }
   ],
   "source": [
    "plt.scatter(x_ent, y_ent, color='red')\n",
    "\n",
    "plt.scatter(x_pruebas, y_pruebas, color='blue', marker='s')\n",
    "\n",
    "#Para el conjunto de pruebas las predicciones que hemos hecho\n",
    "\n",
    "plt.scatter(x_pruebas, y_pred, color= 'yellow')\n",
    "\n",
    "plt.title(\"Diagrama de los datos de prueba, entrenamiento y predicción\")\n",
    "\n",
    "#Recta de regresión lineal\n",
    "#Vamos a trazar una recta entre dos puntos\n",
    "x_min = np.min(x)\n",
    "x_max = np.max(x)\n",
    "\n",
    "#Fórmula matemática de la regresión lineal simple:\n",
    "\n",
    "y_min = pendiente * x_min + ordenada\n",
    "y_max = pendiente * x_max + ordenada\n",
    "\n",
    "plt.plot([x_min, x_max],[y_min,y_max], color='black')\n",
    "\n"
   ]
  },
  {
   "cell_type": "code",
   "execution_count": null,
   "metadata": {},
   "outputs": [],
   "source": [
    "respuesta = modelo.predict([[0]])"
   ]
  }
 ],
 "metadata": {
  "kernelspec": {
   "display_name": "base",
   "language": "python",
   "name": "python3"
  },
  "language_info": {
   "codemirror_mode": {
    "name": "ipython",
    "version": 3
   },
   "file_extension": ".py",
   "mimetype": "text/x-python",
   "name": "python",
   "nbconvert_exporter": "python",
   "pygments_lexer": "ipython3",
   "version": "3.9.13"
  }
 },
 "nbformat": 4,
 "nbformat_minor": 2
}
